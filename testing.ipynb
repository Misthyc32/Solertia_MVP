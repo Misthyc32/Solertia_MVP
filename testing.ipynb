{
 "cells": [
  {
   "cell_type": "code",
   "execution_count": null,
   "id": "77d7c21a",
   "metadata": {},
   "outputs": [],
   "source": [
    "from typing import TypedDict, List\n",
    "from langgraph.graph import StateGraph\n",
    "from langgraph.checkpoint.memory import MemorySaver\n",
    "from langchain_core.documents import Document\n",
    "from langchain.prompts import ChatPromptTemplate\n",
    "from langchain.chat_models import init_chat_model\n",
    "from tools import CALENDAR_ID, reserva_restaurante_tool,update_reservation_tool\n",
    "import datetime as dt\n",
    "import json\n",
    "from config import TZ\n",
    "from calendar_client import get_calendar_service\n",
    "from zoneinfo import ZoneInfo\n",
    "from db import SessionLocal, create_reservation, get_last_event_id_by_thread\n",
    "# Normalizar “hoy/mañana/sábado” → YYYY-MM-DD\n",
    "from dateutil.relativedelta import relativedelta, MO, TU, WE, TH, FR, SA, SU\n",
    "import re\n",
    "from typing import Optional\n"
   ]
  },
  {
   "cell_type": "code",
   "execution_count": 5,
   "id": "6862afff",
   "metadata": {},
   "outputs": [],
   "source": [
    "from menu_index import load_menu_vector\n",
    "from graph import build_app, GlobalState\n",
    "from db import init_db, SessionLocal,save_message, load_history\n",
    "from langchain.agents import AgentExecutor, create_react_agent\n",
    "\n",
    "init_db()\n",
    "db = SessionLocal()\n",
    "\n",
    "# Cargar el vector store del menú\n",
    "vector_store = load_menu_vector(r\"C:\\Users\\cabal\\Desktop\\startup\\Selling_Agent\\menu_casona_completo.json\")\n",
    "\n",
    "# Construir el grafo/agent\n",
    "app = build_app(vector_store)"
   ]
  },
  {
   "cell_type": "code",
   "execution_count": 23,
   "id": "52374b49",
   "metadata": {},
   "outputs": [],
   "source": [
    "def get_last_event_id_by_thread(\n",
    "    session,\n",
    "    thread_id: str,\n",
    "    require_confirmed: bool = True\n",
    ") -> Optional[str]:\n",
    "    \"\"\"Devuelve el event_id más reciente (por updated_at/created_at) para el thread dado.\n",
    "       Prioriza reservas con status='confirmed' y event_id no-nulo.\n",
    "       Si no hay confirmadas y require_confirmed=False, toma la más reciente con event_id.\"\"\"\n",
    "    base_q = session.query(Reservation.event_id).filter(\n",
    "        Reservation.thread_id == thread_id,\n",
    "        Reservation.event_id.isnot(None)\n",
    "    )\n",
    "\n",
    "    if require_confirmed:\n",
    "        q = base_q.filter(Reservation.status == \"confirmed\")\n",
    "        rec = q.order_by(desc(Reservation.updated_at), desc(Reservation.created_at)).first()\n",
    "        if rec and rec[0]:\n",
    "            return rec[0]\n",
    "\n",
    "    # Fallback: cualquiera con event_id\n",
    "    rec = base_q.order_by(desc(Reservation.updated_at), desc(Reservation.created_at)).first()\n",
    "    return rec[0] if rec and rec[0] else None"
   ]
  }
 ],
 "metadata": {
  "kernelspec": {
   "display_name": "Python 3",
   "language": "python",
   "name": "python3"
  },
  "language_info": {
   "codemirror_mode": {
    "name": "ipython",
    "version": 3
   },
   "file_extension": ".py",
   "mimetype": "text/x-python",
   "name": "python",
   "nbconvert_exporter": "python",
   "pygments_lexer": "ipython3",
   "version": "3.12.4"
  }
 },
 "nbformat": 4,
 "nbformat_minor": 5
}
